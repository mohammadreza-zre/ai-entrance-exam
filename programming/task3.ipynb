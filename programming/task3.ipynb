{
  "nbformat": 4,
  "nbformat_minor": 0,
  "metadata": {
    "colab": {
      "name": "task3.ipynb",
      "provenance": [],
      "collapsed_sections": []
    },
    "kernelspec": {
      "name": "python3",
      "display_name": "Python 3"
    },
    "language_info": {
      "name": "python"
    }
  },
  "cells": [
    {
      "cell_type": "markdown",
      "source": [
        "     ** hazm package ---> برای اصلاح نیم فاصله ها و شمارش لغات در زبان فارسی "
      ],
      "metadata": {
        "id": "8JWfhs-LGQDM"
      }
    },
    {
      "cell_type": "code",
      "source": [
        "!pip install hazm\n",
        "from google.colab import files\n",
        "import nltk\n",
        "from nltk import tokenize\n",
        "nltk.download('punkt')\n",
        "import re\n",
        "from hazm import *\n",
        "import hazm"
      ],
      "metadata": {
        "id": "4M1LLZILFydx",
        "colab": {
          "base_uri": "https://localhost:8080/"
        },
        "outputId": "90a5bb7b-25df-4d6e-cad6-5e870a5793fa"
      },
      "execution_count": 1,
      "outputs": [
        {
          "output_type": "stream",
          "name": "stdout",
          "text": [
            "Looking in indexes: https://pypi.org/simple, https://us-python.pkg.dev/colab-wheels/public/simple/\n",
            "Collecting hazm\n",
            "  Downloading hazm-0.7.0-py3-none-any.whl (316 kB)\n",
            "\u001b[K     |████████████████████████████████| 316 kB 13.3 MB/s \n",
            "\u001b[?25hCollecting libwapiti>=0.2.1\n",
            "  Downloading libwapiti-0.2.1.tar.gz (233 kB)\n",
            "\u001b[K     |████████████████████████████████| 233 kB 58.7 MB/s \n",
            "\u001b[?25hCollecting nltk==3.3\n",
            "  Downloading nltk-3.3.0.zip (1.4 MB)\n",
            "\u001b[K     |████████████████████████████████| 1.4 MB 79.3 MB/s \n",
            "\u001b[?25hRequirement already satisfied: six in /usr/local/lib/python3.7/dist-packages (from nltk==3.3->hazm) (1.15.0)\n",
            "Building wheels for collected packages: nltk, libwapiti\n",
            "  Building wheel for nltk (setup.py) ... \u001b[?25l\u001b[?25hdone\n",
            "  Created wheel for nltk: filename=nltk-3.3-py3-none-any.whl size=1394488 sha256=3056a5d3fe07eaede42381a6f5c59781f896293b148a0db3a7b87404f3427b9e\n",
            "  Stored in directory: /root/.cache/pip/wheels/9b/fd/0c/d92302c876e5de87ebd7fc0979d82edb93e2d8d768bf71fac4\n",
            "  Building wheel for libwapiti (setup.py) ... \u001b[?25l\u001b[?25hdone\n",
            "  Created wheel for libwapiti: filename=libwapiti-0.2.1-cp37-cp37m-linux_x86_64.whl size=154668 sha256=b9ceb53efd4cf07a8c8bc56292fc135a246a00d821bde4e639c5ca40bc2d618b\n",
            "  Stored in directory: /root/.cache/pip/wheels/ab/b2/5b/0fe4b8f5c0e65341e8ea7bb3f4a6ebabfe8b1ac31322392dbf\n",
            "Successfully built nltk libwapiti\n",
            "Installing collected packages: nltk, libwapiti, hazm\n",
            "  Attempting uninstall: nltk\n",
            "    Found existing installation: nltk 3.7\n",
            "    Uninstalling nltk-3.7:\n",
            "      Successfully uninstalled nltk-3.7\n",
            "Successfully installed hazm-0.7.0 libwapiti-0.2.1 nltk-3.3\n",
            "[nltk_data] Downloading package punkt to /root/nltk_data...\n",
            "[nltk_data]   Unzipping tokenizers/punkt.zip.\n"
          ]
        }
      ]
    },
    {
      "cell_type": "code",
      "execution_count": 3,
      "metadata": {
        "colab": {
          "base_uri": "https://localhost:8080/",
          "resources": {
            "http://localhost:8080/nbextensions/google.colab/files.js": {
              "data": "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",
              "ok": true,
              "headers": [
                [
                  "content-type",
                  "application/javascript"
                ]
              ],
              "status": 200,
              "status_text": ""
            }
          },
          "height": 148
        },
        "id": "eJzLmeGE-zN6",
        "outputId": "dd65e1f0-0065-4399-a84c-5d6e6c3f7aa4"
      },
      "outputs": [
        {
          "output_type": "display_data",
          "data": {
            "text/plain": [
              "<IPython.core.display.HTML object>"
            ],
            "text/html": [
              "\n",
              "     <input type=\"file\" id=\"files-846089dd-71d0-4400-8534-8812d6ccf8e7\" name=\"files[]\" multiple disabled\n",
              "        style=\"border:none\" />\n",
              "     <output id=\"result-846089dd-71d0-4400-8534-8812d6ccf8e7\">\n",
              "      Upload widget is only available when the cell has been executed in the\n",
              "      current browser session. Please rerun this cell to enable.\n",
              "      </output>\n",
              "      <script src=\"/nbextensions/google.colab/files.js\"></script> "
            ]
          },
          "metadata": {}
        },
        {
          "output_type": "stream",
          "name": "stdout",
          "text": [
            "Saving text.txt to text.txt\n",
            "['این یک فایل متنی نمونه است که برای مسئله برنامه نویسی تولید شده است و هیچ کارکرد دیگری ندارد.\\n', 'طبیعتا کدی که برای پردازش این فایل می نویسید نباید جمله بندی فایل را بهم بریزد و تنها مواردی که ذکر شده است را باید تغییر بدهد.\\n', 'از این موارد می توانیم به حَذْفْ اِعْرآب وَ کآراکتِرْ های غيرِ مُجازْ اِشاره کُنیمْ، البته نباید فراموش کرد که . و ، هم جزو کاراکتر های غیر مجاز محسوب می شوند.\\n', 'از سایر موارد میتوان به تبدیل اعدادی که با رقم نوشته شده اند به حروف یاد کرد، به عنوان مثال عدد ۱۲۳۰۰۰ باید به صورت صد و بیست و سه هزار نوشته شود هرچند که نیازی نیست عدد دو میلیون و نود و سه هزار و پانصد و سی و یک بصورت ۲۰۹۰۵۳۱ نوشته شود.\\n', 'در نهایت موراد موجود از كاراكتر هاي عربي که احتمالا کم ةم نیستند باید به معدل هاي فارسي آنها که در صورت مسئله بة آن اشارة شدة تبديل شوند.']\n",
            "<class 'list'>\n",
            "5\n"
          ]
        }
      ],
      "source": [
        "files.upload()\n",
        "\n",
        "text = list()\n",
        "path = \"/content/text.txt\"\n",
        "f = open(path)\n",
        "for line in f.readlines() :\n",
        "  text.append(line)\n",
        "\n",
        "print(text)\n",
        "print(type(text))\n",
        "print(len(text))"
      ]
    },
    {
      "cell_type": "markdown",
      "source": [
        "    replacing arabic charachters with perian alternatives"
      ],
      "metadata": {
        "id": "zkJdTIN1AtWf"
      }
    },
    {
      "cell_type": "code",
      "source": [
        "\n",
        "processed_text = list()\n",
        "for sent in text :\n",
        "    sent = re.sub(\"ك\" ,\n",
        "                  \"ک\",\n",
        "                  sent)\n",
        "\n",
        "\n",
        "    sent = re.sub(\"،ي\" ,\n",
        "                  \"ی\",\n",
        "                  sent)\n",
        "\n",
        "    sent = re.sub(\"ة\" ,\n",
        "                  \"ه\" ,\n",
        "                  sent)\n",
        "    processed_text.append(sent)\n",
        "\n",
        "\n",
        "for t in processed_text:\n",
        "  print(t)"
      ],
      "metadata": {
        "colab": {
          "base_uri": "https://localhost:8080/"
        },
        "id": "gt0OO26uEdWR",
        "outputId": "70dbef7f-cff3-4ba1-84c8-046da25b1ff9"
      },
      "execution_count": 4,
      "outputs": [
        {
          "output_type": "stream",
          "name": "stdout",
          "text": [
            "این یک فایل متنی نمونه است که برای مسئله برنامه نویسی تولید شده است و هیچ کارکرد دیگری ندارد.\n",
            "\n",
            "طبیعتا کدی که برای پردازش این فایل می نویسید نباید جمله بندی فایل را بهم بریزد و تنها مواردی که ذکر شده است را باید تغییر بدهد.\n",
            "\n",
            "از این موارد می توانیم به حَذْفْ اِعْرآب وَ کآراکتِرْ های غيرِ مُجازْ اِشاره کُنیمْ، البته نباید فراموش کرد که . و ، هم جزو کاراکتر های غیر مجاز محسوب می شوند.\n",
            "\n",
            "از سایر موارد میتوان به تبدیل اعدادی که با رقم نوشته شده اند به حروف یاد کرد، به عنوان مثال عدد ۱۲۳۰۰۰ باید به صورت صد و بیست و سه هزار نوشته شود هرچند که نیازی نیست عدد دو میلیون و نود و سه هزار و پانصد و سی و یک بصورت ۲۰۹۰۵۳۱ نوشته شود.\n",
            "\n",
            "در نهایت موراد موجود از کاراکتر هاي عربي که احتمالا کم هم نیستند باید به معدل هاي فارسي آنها که در صورت مسئله به آن اشاره شده تبديل شوند.\n"
          ]
        }
      ]
    },
    {
      "cell_type": "markdown",
      "source": [
        "    input : perian number in string format\n",
        "    output : english number in integer format"
      ],
      "metadata": {
        "id": "jGMVB3k1A6Rm"
      }
    },
    {
      "cell_type": "code",
      "source": [
        "def PerisanStringToEnglishInt(number):\n",
        "  singleNumberToEbglish = {  \n",
        "      \"۱\" :\"1\" ,\n",
        "      \"۲\" :\"2\" ,\n",
        "      \"۳\" :\"3\" ,\n",
        "      \"۴\" :\"4\" ,\n",
        "      \"۵\" :\"5\" ,\n",
        "      \"۶\" :\"6\" ,\n",
        "      \"۷\" :\"7\" ,\n",
        "      \"۸\" :\"8\" ,\n",
        "      \"۹\" :\"9\" ,\n",
        "      \"۰\" :\"0\" ,\n",
        "      }\n",
        "  numToE = \"\"\n",
        "  for ch in number :\n",
        "    numToE += singleNumberToEbglish[ch]\n",
        "  return int(numToE)\n",
        "\n"
      ],
      "metadata": {
        "id": "N6lyjQrHdmeL"
      },
      "execution_count": 5,
      "outputs": []
    },
    {
      "cell_type": "markdown",
      "source": [
        "    Main recursive function\n",
        "\n",
        "    input : english number in integer format\n",
        "    output : persian text\n",
        "\n",
        "    procedure : dividing input number sequentially untill its value become less than 20"
      ],
      "metadata": {
        "id": "fGeED2jfBIpl"
      }
    },
    {
      "cell_type": "code",
      "source": [
        "def int_to_en(num):\n",
        "    d = { 0 : 'صفر',\n",
        "         1 : 'یک',\n",
        "         2 : 'دو',\n",
        "         3 : 'سه',\n",
        "         4 : 'چهار', \n",
        "         5 : 'پنج',\n",
        "          6 : 'شش',\n",
        "          7 : 'هفت',\n",
        "          8 : 'هشت',\n",
        "          9 : 'نه',\n",
        "          10 : 'ده',\n",
        "          11 : 'یازده',\n",
        "          12 : 'دوارده',\n",
        "          13 : 'سیزده',\n",
        "          14 : 'چهارده',\n",
        "          15 : 'پانزده',\n",
        "          16 : 'شانزده',\n",
        "          17 : 'هفده',\n",
        "          18 : 'هجده',\n",
        "          19 : 'نوزده',\n",
        "          20 : 'بیست',\n",
        "          30 : 'سی',\n",
        "          40 : 'چهل',\n",
        "          50 : 'پنجاه',\n",
        "          60 : 'شصت',\n",
        "          70 : 'هفتاد',\n",
        "          80 : 'هشتاد',\n",
        "          90 : 'نود' , \n",
        "          100 : 'صد' ,\n",
        "          200 : 'دویست' , \n",
        "          300 : 'سیصد' , \n",
        "          400 : 'چهارصد' , \n",
        "          500 : 'پانصد' , \n",
        "          600 : 'ششصد' , \n",
        "          700 : 'هفتصد' , \n",
        "          800 : 'هشتصد' , \n",
        "          900 : 'نهصد' ,\n",
        "          }\n",
        "    k = 1000\n",
        "    m = 1000000\n",
        "    b = 1000000000\n",
        "    t = 1000000000000\n",
        "\n",
        "    assert(0 <= num)\n",
        "    if (num < 20):\n",
        "        return d[num]\n",
        "\n",
        "\n",
        "    if (num < 100):\n",
        "        if num % 10 == 0: \n",
        "          return d[num]\n",
        "        else: \n",
        "          return d[num // 10 * 10] + ' و '  + d[num % 10]\n",
        "\n",
        "    if (num < k):\n",
        "        if num % 100 == 0: \n",
        "          return d[num] \n",
        "        else:\n",
        "           return d[(num // 100)*100] + ' و ' + int_to_en(num % 100)\n",
        "\n",
        "    if (num < m):\n",
        "        if (num % k) == 0:\n",
        "           return int_to_en(num // k) + ' هزار'\n",
        "        else:\n",
        "           return int_to_en(num // k) + ' هزار و ' + int_to_en(num % k)\n",
        "\n",
        "    if (num < b):\n",
        "        if (num % m) == 0: \n",
        "          return int_to_en(num // m) + ' میلیون'\n",
        "        else: \n",
        "          return int_to_en(num // m) + ' میلیون و ' + int_to_en(num % m)\n",
        "\n",
        "    if (num < t):\n",
        "        if (num % b) == 0:\n",
        "           return int_to_en(num // b) + ' میلیارد'\n",
        "        else: \n",
        "          return int_to_en(num // b) + ' میلیارد و ' + int_to_en(num % b)\n",
        "\n",
        "    if (num % t == 0): \n",
        "      return int_to_en(num // t) + ' تریلیون'\n",
        "    else:\n",
        "       return int_to_en(num // t) + ' تریلیون و ' + int_to_en(num % t)\n",
        "\n",
        "    raise AssertionError('num is too large: %s' % str(num))"
      ],
      "metadata": {
        "id": "0k1fOCvtGTjc"
      },
      "execution_count": 6,
      "outputs": []
    },
    {
      "cell_type": "markdown",
      "source": [
        "    loop over each sentence ---> loop over each word of sentence ---> eliminate excessive charachters (+ applying above functions)  "
      ],
      "metadata": {
        "id": "PgSEAxMGBp3z"
      }
    },
    {
      "cell_type": "code",
      "source": [
        "alphabets = \"۱۲۳۴۵۶۷۸۹۰ضصثقفغعهخحجچشسیبلاتنمکگظطزرذدپو\"\n",
        "alphabets_list = [char for char in alphabets]\n",
        "\n",
        "processed_sentences = list()\n",
        "for sent in processed_text :\n",
        "  processed_words = list()\n",
        "\n",
        "  words = tokenize.word_tokenize(sent) \n",
        "  for word in words : \n",
        "    clearWord = re.sub(\"[^ض ص ث ق ف غ ع ه خ ح ج چ ش س ی ب ل ا ت ن م ک گ ظ ط ز ر ذ د پ و ]\" , \"\", word)\n",
        "    processed_words.append(clearWord)\n",
        "\n",
        "    num = re.findall(\"[۱ ۲ ۳ ۴ ۵ ۶ ۷ ۸ ۹ ۰]\" , word) \n",
        "    if num :\n",
        "      numString = \"\"\n",
        "      for digit in num :\n",
        "        numString += digit\n",
        "      myNum = PerisanStringToEnglishInt(numString)\n",
        "      myNumToText = int_to_en(myNum)\n",
        "      processed_words.append(myNumToText)\n",
        "  processed_sentences.append(processed_words)\n",
        "\n",
        "\n",
        "\n",
        "\n",
        "\n",
        "finalSent = list()\n",
        "normalizer = Normalizer()\n",
        "\n",
        "\n",
        "\n",
        "for ps in processed_sentences : \n",
        "  sent = \"\"    \n",
        "  for word in ps :\n",
        "    sent += word + \" \"\n",
        "  sentence = normalizer.normalize(sent)\n",
        "  finalSent.append(sentence)"
      ],
      "metadata": {
        "id": "uB6PgmgmNtTe"
      },
      "execution_count": 7,
      "outputs": []
    },
    {
      "cell_type": "code",
      "source": [
        "for i in (finalSent) :\n",
        "  print(i)\n"
      ],
      "metadata": {
        "colab": {
          "base_uri": "https://localhost:8080/"
        },
        "id": "037V1eo6hCoP",
        "outputId": "77874ec6-2c55-4c48-a125-27da3f15a4d5"
      },
      "execution_count": 8,
      "outputs": [
        {
          "output_type": "stream",
          "name": "stdout",
          "text": [
            "این یک فایل متنی نمونه است که برای مسله برنامه نویسی تولید شده است و هیچ کارکرد دیگری ندارد \n",
            "طبیعتا کدی که برای پردازش این فایل می‌نویسید نباید جمله بندی فایل را بهم بریزد و تنها مواردی که ذکر شده است را باید تغییر بدهد \n",
            "از این موارد می‌توانیم به حذف اعرب و کراکتر‌های غر مجاز اشاره کنیم البته نباید فراموش کرد که و هم جزو کاراکتر‌های غیر مجاز محسوب می‌شوند \n",
            "از سایر موارد میتوان به تبدیل اعدادی که با رقم نوشته شده‌اند به حروف یاد کرد به عنوان مثال عدد صد و بیست و سه هزار باید به صورت صد و بیست و سه هزار نوشته شود هرچند که نیازی نیست عدد دو میلیون و نود و سه هزار و پانصد و سی و یک بصورت دو میلیون و نود هزار و پانصد و سی و یک نوشته شود \n",
            "در نهایت موراد موجود از کاراکتر‌ها عرب که احتمالا کم هم نیستند باید به معدل‌ها فارس نها که در صورت مسله به ن اشاره شده تبدل شوند \n"
          ]
        }
      ]
    },
    {
      "cell_type": "markdown",
      "source": [
        "    Just keep sentence if its length is less tha 50 or more than 10 "
      ],
      "metadata": {
        "id": "mHLjOxAcGBMx"
      }
    },
    {
      "cell_type": "code",
      "source": [
        "filerdFinalSenteces = list()\n",
        "for s in finalSent :\n",
        "  sWordsList = hazm.word_tokenize(s)\n",
        "  length = len(sWordsList)\n",
        "  if  50 >= length >= 10:\n",
        "    filerdFinalSenteces.append(s)\n",
        "    print(s)\n",
        "    print('-----------------')"
      ],
      "metadata": {
        "colab": {
          "base_uri": "https://localhost:8080/"
        },
        "id": "hKTONfyCD56n",
        "outputId": "fcd8dd6c-3615-4512-8c72-1777cd8c2dfc"
      },
      "execution_count": 16,
      "outputs": [
        {
          "output_type": "stream",
          "name": "stdout",
          "text": [
            "این یک فایل متنی نمونه است که برای مسله برنامه نویسی تولید شده است و هیچ کارکرد دیگری ندارد \n",
            "-----------------\n",
            "طبیعتا کدی که برای پردازش این فایل می‌نویسید نباید جمله بندی فایل را بهم بریزد و تنها مواردی که ذکر شده است را باید تغییر بدهد \n",
            "-----------------\n",
            "از این موارد می‌توانیم به حذف اعرب و کراکتر‌های غر مجاز اشاره کنیم البته نباید فراموش کرد که و هم جزو کاراکتر‌های غیر مجاز محسوب می‌شوند \n",
            "-----------------\n",
            "در نهایت موراد موجود از کاراکتر‌ها عرب که احتمالا کم هم نیستند باید به معدل‌ها فارس نها که در صورت مسله به ن اشاره شده تبدل شوند \n",
            "-----------------\n"
          ]
        }
      ]
    }
  ]
}